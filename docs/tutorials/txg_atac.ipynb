version https://git-lfs.github.com/spec/v1
oid sha256:e9b5eaf62a7591cf7f5539255ec37eb1215803fcd3c511f344dfe23592adc70a
size 4039867
