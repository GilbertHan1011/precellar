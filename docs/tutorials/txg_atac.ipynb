version https://git-lfs.github.com/spec/v1
oid sha256:9331d929469533eacc126f4d3ee226d5e82fefbce2f03b95cbf1b2caffbf1160
size 4038273
