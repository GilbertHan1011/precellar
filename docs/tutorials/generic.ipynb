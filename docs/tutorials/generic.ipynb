version https://git-lfs.github.com/spec/v1
oid sha256:99cb96dbb3856c66e37c06dc140f47856ad74de12c18dc467a063eef7955abd4
size 7799
